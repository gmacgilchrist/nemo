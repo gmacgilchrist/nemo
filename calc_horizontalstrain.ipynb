{
 "cells": [
  {
   "cell_type": "code",
   "execution_count": null,
   "metadata": {
    "collapsed": true
   },
   "outputs": [],
   "source": [
    "# CALCULATE THE HORIZONTAL STRAIN\n",
    "# A function to calculate strain rate from input velocity field\n",
    "# This script uses the oocgcm python package from Julien le Sommer (http://oocgcm.readthedocs.io/en/latest/index.html)"
   ]
  },
  {
   "cell_type": "code",
   "execution_count": 29,
   "metadata": {
    "collapsed": false
   },
   "outputs": [],
   "source": [
    "import numpy as np\n",
    "from oocgcm.oceanmodels.nemo import grids\n",
    "from oocgcm.core.grids import VectorField2d\n",
    "from netCDF4 import Dataset\n",
    "import xarray"
   ]
  },
  {
   "cell_type": "code",
   "execution_count": 135,
   "metadata": {
    "collapsed": true
   },
   "outputs": [],
   "source": [
    "# SPECIFY DATA LOCATION\n",
    "rootdir = '/home/ocean2/'\n",
    "griddir = 'DRAKKAR_5d/ORCA025.L75-GJM189-S/NATL/GRID/'\n",
    "datadir = 'graemem/ariane/data_link/5d/'"
   ]
  },
  {
   "cell_type": "code",
   "execution_count": 146,
   "metadata": {
    "collapsed": false
   },
   "outputs": [],
   "source": [
    "# LOAD DATA\n",
    "# Load grid descriptor\n",
    "grd = grids.nemo_2d_grid(nemo_coordinate_file = rootdir+griddir+'ORCA025.L75-GJM189_mesh_hgr.nc',\n",
    "                        nemo_byte_mask_file = rootdir+griddir+'ORCA025.L75-GJM189_byte_mask.nc')\n",
    "# Load U and V velocities\n",
    "datu = xarray.open_dataset(rootdir+datadir+'ORCA025.L75-GJM189_0001_gridU.nc')\n",
    "datv = xarray.open_dataset(rootdir+datadir+'ORCA025.L75-GJM189_0001_gridV.nc')\n",
    "velocity = VectorField2d(datu.vozocrtx,datv.vomecrty)"
   ]
  },
  {
   "cell_type": "code",
   "execution_count": 147,
   "metadata": {
    "collapsed": false
   },
   "outputs": [
    {
     "ename": "ChunkError",
     "evalue": "incompatible chunk size",
     "output_type": "error",
     "traceback": [
      "\u001b[0;31m---------------------------------------------------------------------------\u001b[0m",
      "\u001b[0;31mChunkError\u001b[0m                                Traceback (most recent call last)",
      "\u001b[0;32m<ipython-input-147-e3ce134345cb>\u001b[0m in \u001b[0;36m<module>\u001b[0;34m()\u001b[0m\n\u001b[0;32m----> 1\u001b[0;31m \u001b[0mgrad\u001b[0m \u001b[0;34m=\u001b[0m \u001b[0mgrd\u001b[0m\u001b[0;34m.\u001b[0m\u001b[0mhorizontal_gradient\u001b[0m\u001b[0;34m(\u001b[0m\u001b[0mvelocity\u001b[0m\u001b[0;34m)\u001b[0m\u001b[0;34m\u001b[0m\u001b[0m\n\u001b[0m",
      "\u001b[0;32m/home/oceansoft/anaconda2/lib/python2.7/site-packages/oocgcm-0.1.0-py2.7.egg/oocgcm/core/grids.pyc\u001b[0m in \u001b[0;36mhorizontal_gradient\u001b[0;34m(self, datastructure)\u001b[0m\n\u001b[1;32m   1134\u001b[0m             \u001b[0;32mreturn\u001b[0m \u001b[0mself\u001b[0m\u001b[0;34m.\u001b[0m\u001b[0mhorizontal_gradient_vector\u001b[0m\u001b[0;34m(\u001b[0m\u001b[0mdatastructure\u001b[0m\u001b[0;34m)\u001b[0m\u001b[0;34m\u001b[0m\u001b[0m\n\u001b[1;32m   1135\u001b[0m         \u001b[0;32melif\u001b[0m \u001b[0misinstance\u001b[0m\u001b[0;34m(\u001b[0m\u001b[0mdatastructure\u001b[0m\u001b[0;34m,\u001b[0m\u001b[0mtuple\u001b[0m\u001b[0;34m)\u001b[0m\u001b[0;34m:\u001b[0m\u001b[0;34m\u001b[0m\u001b[0m\n\u001b[0;32m-> 1136\u001b[0;31m             \u001b[0;32mreturn\u001b[0m \u001b[0mself\u001b[0m\u001b[0;34m.\u001b[0m\u001b[0mhorizontal_gradient_tensor\u001b[0m\u001b[0;34m(\u001b[0m\u001b[0mdatastructure\u001b[0m\u001b[0;34m)\u001b[0m\u001b[0;34m\u001b[0m\u001b[0m\n\u001b[0m\u001b[1;32m   1137\u001b[0m         \u001b[0;32melse\u001b[0m\u001b[0;34m:\u001b[0m\u001b[0;34m\u001b[0m\u001b[0m\n\u001b[1;32m   1138\u001b[0m             \u001b[0;32mraise\u001b[0m \u001b[0mException\u001b[0m\u001b[0;34m(\u001b[0m\u001b[0;34m'unrecognized type of datastructure'\u001b[0m\u001b[0;34m)\u001b[0m\u001b[0;34m\u001b[0m\u001b[0m\n",
      "\u001b[0;32m/home/oceansoft/anaconda2/lib/python2.7/site-packages/oocgcm-0.1.0-py2.7.egg/oocgcm/core/grids.pyc\u001b[0m in \u001b[0;36mhorizontal_gradient_tensor\u001b[0;34m(self, vectorfield)\u001b[0m\n\u001b[1;32m   1211\u001b[0m         \u001b[0;31m#- check input arrays\u001b[0m\u001b[0;34m\u001b[0m\u001b[0;34m\u001b[0m\u001b[0m\n\u001b[1;32m   1212\u001b[0m         check_input_array(vectorfield.x_component,\\\n\u001b[0;32m-> 1213\u001b[0;31m                           chunks=self.chunks,grid_location='u',ndims=self.ndims)\n\u001b[0m\u001b[1;32m   1214\u001b[0m         check_input_array(vectorfield.y_component,\\\n\u001b[1;32m   1215\u001b[0m                           chunks=self.chunks,grid_location='v',ndims=self.ndims)\n",
      "\u001b[0;32m/home/oceansoft/anaconda2/lib/python2.7/site-packages/oocgcm-0.1.0-py2.7.egg/oocgcm/core/utils.pyc\u001b[0m in \u001b[0;36mcheck_input_array\u001b[0;34m(xarr, shape, chunks, grid_location, ndims)\u001b[0m\n\u001b[1;32m    281\u001b[0m         \u001b[0;32mraise\u001b[0m \u001b[0mTypeError\u001b[0m\u001b[0;34m(\u001b[0m\u001b[0marrayname\u001b[0m \u001b[0;34m+\u001b[0m \u001b[0;34m'is expected to be a xarray.DataArray'\u001b[0m\u001b[0;34m)\u001b[0m\u001b[0;34m\u001b[0m\u001b[0m\n\u001b[1;32m    282\u001b[0m     \u001b[0;32mif\u001b[0m \u001b[0;32mnot\u001b[0m\u001b[0;34m(\u001b[0m\u001b[0m_chunks_are_compatible\u001b[0m\u001b[0;34m(\u001b[0m\u001b[0mxarr\u001b[0m\u001b[0;34m.\u001b[0m\u001b[0mchunks\u001b[0m\u001b[0;34m,\u001b[0m\u001b[0mchunks\u001b[0m\u001b[0;34m,\u001b[0m\u001b[0mndims\u001b[0m\u001b[0;34m=\u001b[0m\u001b[0mndims\u001b[0m\u001b[0;34m)\u001b[0m\u001b[0;34m)\u001b[0m\u001b[0;34m:\u001b[0m\u001b[0;34m\u001b[0m\u001b[0m\n\u001b[0;32m--> 283\u001b[0;31m         \u001b[0;32mraise\u001b[0m \u001b[0mChunkError\u001b[0m\u001b[0;34m(\u001b[0m\u001b[0;34m)\u001b[0m\u001b[0;34m\u001b[0m\u001b[0m\n\u001b[0m\u001b[1;32m    284\u001b[0m     \u001b[0;32mif\u001b[0m \u001b[0;32mnot\u001b[0m\u001b[0;34m(\u001b[0m\u001b[0m_grid_location_equals\u001b[0m\u001b[0;34m(\u001b[0m\u001b[0mxarr\u001b[0m\u001b[0;34m,\u001b[0m\u001b[0mgrid_location\u001b[0m\u001b[0;34m)\u001b[0m\u001b[0;34m)\u001b[0m\u001b[0;34m:\u001b[0m\u001b[0;34m\u001b[0m\u001b[0m\n\u001b[1;32m    285\u001b[0m         \u001b[0;32mraise\u001b[0m \u001b[0mGridLocationError\u001b[0m\u001b[0;34m(\u001b[0m\u001b[0;34m)\u001b[0m\u001b[0;34m\u001b[0m\u001b[0m\n",
      "\u001b[0;31mChunkError\u001b[0m: incompatible chunk size"
     ]
    }
   ],
   "source": [
    "grad = grd.horizontal_gradient(velocity)"
   ]
  },
  {
   "cell_type": "code",
   "execution_count": null,
   "metadata": {
    "collapsed": true
   },
   "outputs": [],
   "source": []
  }
 ],
 "metadata": {
  "anaconda-cloud": {},
  "kernelspec": {
   "display_name": "Python [default]",
   "language": "python",
   "name": "python2"
  },
  "language_info": {
   "codemirror_mode": {
    "name": "ipython",
    "version": 2
   },
   "file_extension": ".py",
   "mimetype": "text/x-python",
   "name": "python",
   "nbconvert_exporter": "python",
   "pygments_lexer": "ipython2",
   "version": "2.7.12"
  }
 },
 "nbformat": 4,
 "nbformat_minor": 1
}
