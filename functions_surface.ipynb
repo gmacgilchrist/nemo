{
 "cells": [
  {
   "cell_type": "code",
   "execution_count": null,
   "metadata": {
    "collapsed": true
   },
   "outputs": [],
   "source": [
    "def calc_buoyancyflux(ds,xv,yv):\n",
    "    import gsw\n",
    "    \n",
    "    # Calculate buoyancy flux\n",
    "    r0 = gsw.rho(ds.variables['vosaline'][0,0,yv,xv],ds.variables['votemper'][0,0,yv,xv],0)\n",
    "    alpha = gsw.alpha(ds.variables['vosaline'][0,0,yv,xv],ds.variables['votemper'][0,0,yv,xv],0)\n",
    "    beta = gsw.beta(ds.variables['vosaline'][0,0,yv,xv],ds.variables['votemper'][0,0,yv,xv],0)\n",
    "    D_T = -(alpha/gsw.cp0)*ds.variables['sohefldo'][0,yv,xv]\n",
    "    D_S = r0*beta*ds.variables['vosaline'][0,0,yv,xv]*ds.variables['sowaflup'][0,yv,xv]/1000\n",
    "    \n",
    "    return D_T + D_S\n",
    "\n",
    "def calc_wmt(Din,r0,e1t,e2t,r,dr):\n",
    "    import numpy as np\n",
    "    \n",
    "    # Multiply by area of grid cell\n",
    "    Din_area = Din*e1t*e2t\n",
    "    \n",
    "    # Calculate summed buoyancy flux for surface densities greater than r\n",
    "    # Generate new array for values above and below the target density\n",
    "    ind = r0>r-dr\n",
    "    Dbelow = Din_area[ind].sum()\n",
    "    ind = r0>r\n",
    "    Dtarget = Din_area[ind].sum()\n",
    "    ind = r0>r+dr\n",
    "    Dabove = Din_area[ind].sum()\n",
    "    # Perform differentiation on these arrays\n",
    "    \n",
    "    # TRANSFORMATION\n",
    "    # First order central difference of D wrt rho\n",
    "    F = -(1e-6)*(Dabove-Dbelow)/(2*dr)\n",
    "    # FORMATION\n",
    "    # Second order central differences of D wrt rho\n",
    "    M = (1e-6)*(Dabove-2*Dtarget+Dbelow)/(dr**2)\n",
    "    \n",
    "    return (F,M)"
   ]
  }
 ],
 "metadata": {
  "anaconda-cloud": {},
  "kernelspec": {
   "display_name": "Python [default]",
   "language": "python",
   "name": "python2"
  },
  "language_info": {
   "codemirror_mode": {
    "name": "ipython",
    "version": 2
   },
   "file_extension": ".py",
   "mimetype": "text/x-python",
   "name": "python",
   "nbconvert_exporter": "python",
   "pygments_lexer": "ipython2",
   "version": "2.7.12"
  }
 },
 "nbformat": 4,
 "nbformat_minor": 1
}
