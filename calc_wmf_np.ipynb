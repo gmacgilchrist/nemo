{
 "cells": [
  {
   "cell_type": "code",
   "execution_count": 1,
   "metadata": {
    "collapsed": true
   },
   "outputs": [],
   "source": [
    "# Calculate water mass formation for a range of density values from NEMO data"
   ]
  },
  {
   "cell_type": "code",
   "execution_count": 94,
   "metadata": {
    "collapsed": false
   },
   "outputs": [],
   "source": [
    "import numpy as np\n",
    "import pandas as pd\n",
    "import xarray.ufuncs as xu\n",
    "import scipy.io as io\n",
    "from netCDF4 import Dataset\n",
    "import gsw\n",
    "import matplotlib.pyplot as plt\n",
    "%matplotlib inline"
   ]
  },
  {
   "cell_type": "code",
   "execution_count": 91,
   "metadata": {
    "collapsed": false
   },
   "outputs": [],
   "source": [
    "# SPECIFY DATASET LOCATION\n",
    "rootdir = '/home/ocean1/DRAKKAR/ORCA025.L75-GJM189-S/'\n",
    "# Densities to evaluate\n",
    "rrange = np.arange(1026,1028.4,0.1)\n",
    "dr = 0.1\n",
    "nr = rrange.shape[0]\n",
    "# Timesteps to evaluate at\n",
    "times = np.arange(1,5,1)\n",
    "nt = times.shape[0]\n",
    "# NA region\n",
    "xv = np.arange(700,1300,1)\n",
    "yv = np.arange(500,1021,1)\n",
    "# Load grid data\n",
    "grd = Dataset(rootdir+'GRID/ORCA025.L75-GJM189_mesh_hgr.nc','r')\n",
    "# Grid spacings\n",
    "e1t = grd.variables['e1t'][0,yv,xv]\n",
    "e2t = grd.variables['e2t'][0,yv,xv]"
   ]
  },
  {
   "cell_type": "code",
   "execution_count": 92,
   "metadata": {
    "collapsed": false
   },
   "outputs": [
    {
     "name": "stdout",
     "output_type": "stream",
     "text": [
      "0001\n",
      "0002\n",
      "0003\n",
      "0004\n"
     ]
    }
   ],
   "source": [
    "# LOAD DATA\n",
    "# Load data files\n",
    "F=np.empty((nr,nt,))\n",
    "M=np.empty((nr,nt,))\n",
    "tcount=0\n",
    "for t in times:\n",
    "    tstr = str(t).zfill(4)\n",
    "    print tstr\n",
    "    # Load dataset\n",
    "    ds = Dataset(rootdir+'symbolic_links/ORCA025.L75-GJM189_'+tstr+'_gridT.nc','r')\n",
    "    # Calculate sea-surface density\n",
    "    r0 = gsw.rho(ds.variables['vosaline'][0,0,yv,xv],ds.variables['votemper'][0,0,yv,xv],0)\n",
    "    # Calculate buoyancy flux\n",
    "    Din = calc_buoyancyflux(ds,xv,yv)\n",
    "    # Calculate watermass transformation and formation\n",
    "    rcount = 0\n",
    "    for r in rrange:\n",
    "        (F[rcount,tcount],M[rcount,tcount]) = calc_wmt(Din,r0,e1t,e2t,r,dr)\n",
    "        rcount+=1\n",
    "\n",
    "    tcount+=1"
   ]
  },
  {
   "cell_type": "code",
   "execution_count": 96,
   "metadata": {
    "collapsed": false
   },
   "outputs": [],
   "source": [
    "io.savemat(rootdir+'matfiles/wmt_r'+str(rrange.min())+'-'+str(rrange.max())+'_dr'+str(dr)+'_NA.mat',{'F':F,'M':M,'rrange':rrange})"
   ]
  },
  {
   "cell_type": "code",
   "execution_count": 86,
   "metadata": {
    "collapsed": false
   },
   "outputs": [],
   "source": [
    "def calc_buoyancyflux(ds,xv,yv):\n",
    "    import gsw\n",
    "    \n",
    "    # Calculate buoyancy flux\n",
    "    r0 = gsw.rho(ds.variables['vosaline'][0,0,yv,xv],ds.variables['votemper'][0,0,yv,xv],0)\n",
    "    alpha = gsw.alpha(ds.variables['vosaline'][0,0,yv,xv],ds.variables['votemper'][0,0,yv,xv],0)\n",
    "    beta = gsw.beta(ds.variables['vosaline'][0,0,yv,xv],ds.variables['votemper'][0,0,yv,xv],0)\n",
    "    D_T = -(alpha/gsw.cp0)*ds.variables['sohefldo'][0,yv,xv]\n",
    "    D_S = r0*beta*ds.variables['vosaline'][0,0,yv,xv]*ds.variables['sowaflup'][0,yv,xv]/1000\n",
    "    \n",
    "    return D_T + D_S\n",
    "\n",
    "def calc_wmt(Din,r0,e1t,e2t,r,dr):\n",
    "    import numpy as np\n",
    "    \n",
    "    # Multiply by area of grid cell\n",
    "    Din_area = Din*e1t*e2t\n",
    "    \n",
    "    # Calculate summed buoyancy flux for surface densities greater than r\n",
    "    # Generate new array for values above and below the target density\n",
    "    ind = r0>r-dr\n",
    "    Dbelow = Din_area[ind].sum()\n",
    "    ind = r0>r\n",
    "    Dtarget = Din_area[ind].sum()\n",
    "    ind = r0>r+dr\n",
    "    Dabove = Din_area[ind].sum()\n",
    "    # Perform differentiation on these arrays\n",
    "    \n",
    "    # TRANSFORMATION\n",
    "    # First order central difference of D wrt rho\n",
    "    F = -(1e-6)*(Dabove-Dbelow)/(2*dr)\n",
    "    # FORMATION\n",
    "    # Second order central differences of D wrt rho\n",
    "    M = (1e-6)*(Dabove-2*Dtarget+Dbelow)/(dr**2)\n",
    "    \n",
    "    return (F,M)"
   ]
  }
 ],
 "metadata": {
  "anaconda-cloud": {},
  "kernelspec": {
   "display_name": "Python [default]",
   "language": "python",
   "name": "python2"
  },
  "language_info": {
   "codemirror_mode": {
    "name": "ipython",
    "version": 2
   },
   "file_extension": ".py",
   "mimetype": "text/x-python",
   "name": "python",
   "nbconvert_exporter": "python",
   "pygments_lexer": "ipython2",
   "version": "2.7.12"
  }
 },
 "nbformat": 4,
 "nbformat_minor": 1
}
