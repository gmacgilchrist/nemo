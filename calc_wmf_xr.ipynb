{
 "cells": [
  {
   "cell_type": "code",
   "execution_count": 1,
   "metadata": {
    "collapsed": true
   },
   "outputs": [],
   "source": [
    "# Calculate water mass formation for a specific density value from NEMO data"
   ]
  },
  {
   "cell_type": "code",
   "execution_count": 39,
   "metadata": {
    "collapsed": false
   },
   "outputs": [],
   "source": [
    "import numpy as np\n",
    "import pandas as pd\n",
    "import xarray as xr\n",
    "import xarray.ufuncs as xu\n",
    "import scipy.io as io\n",
    "import gsw\n",
    "import matplotlib.pyplot as plt\n",
    "%matplotlib inline"
   ]
  },
  {
   "cell_type": "code",
   "execution_count": 40,
   "metadata": {
    "collapsed": false
   },
   "outputs": [],
   "source": [
    "# SPECIFY DATASET LOCATION\n",
    "rootdir = '/home/ocean1/DRAKKAR/ORCA025.L75-GJM189-S/'\n",
    "r = 27\n",
    "dr = 0.1\n",
    "# NA region\n",
    "xv = np.arange(700,1300,1)\n",
    "yv = np.arange(500,1021,1)"
   ]
  },
  {
   "cell_type": "code",
   "execution_count": 41,
   "metadata": {
    "collapsed": false
   },
   "outputs": [],
   "source": [
    "# LOAD DATA\n",
    "# Load data files\n",
    "t = '*'\n",
    "ds = xr.open_mfdataset(rootdir+'2012/ORCA025.L75-GJM189_'+t+'_gridT.nc',chunks={'x':1442,'y':1021})\n",
    "# Load grid data\n",
    "grd = xr.open_dataset(rootdir+'GRID/ORCA025.L75-GJM189_mesh_hgr.nc')\n",
    "# Load mask\n",
    "# Prepared in Matlab before.\n",
    "init_mask = io.loadmat('/home/ocean2/graemem/dwfproxy/DRAKKAR/matfiles/init_mask.mat')\n",
    "mask = xr.DataArray(np.array(init_mask['mask']),coords=[grd.x,grd.y])"
   ]
  },
  {
   "cell_type": "code",
   "execution_count": 46,
   "metadata": {
    "collapsed": false
   },
   "outputs": [
    {
     "name": "stdout",
     "output_type": "stream",
     "text": [
      "<xarray.DataArray (time_counter: 73)>\n",
      "dask.array<div-4f7..., shape=(73,), dtype=float64, chunksize=(1,)>\n",
      "Coordinates:\n",
      "    deptht        float32 0.50576\n",
      "  * time_counter  (time_counter) datetime64[ns] 2011-12-31T12:00:00 ...\n"
     ]
    }
   ],
   "source": [
    "M=calc_wmf(ds.isel(x=xv,y=yv),grd.isel(x=xv,y=yv),r,dr)\n",
    "print M"
   ]
  },
  {
   "cell_type": "code",
   "execution_count": 36,
   "metadata": {
    "collapsed": false
   },
   "outputs": [],
   "source": [
    "def calc_buoyancyflux(ds):\n",
    "    import xarray.ufuncs as xu\n",
    "    import gsw\n",
    "    \n",
    "    # Calculate buoyancy flux\n",
    "    r0 = gsw.rho_xarray(ds.vosaline.isel(deptht=0),ds.votemper.isel(deptht=0),0)\n",
    "    alpha = gsw.alpha_xarray(ds.vosaline.isel(deptht=0),ds.votemper.isel(deptht=0),0)\n",
    "    beta = gsw.beta_xarray(ds.vosaline.isel(deptht=0),ds.votemper.isel(deptht=0),0)\n",
    "    D_T = -(alpha/gsw.cp0)*ds.sohefldo\n",
    "    D_S = r0*beta*ds.vosaline.isel(deptht=0)*ds.sowaflup/1000\n",
    "    \n",
    "    return D_T + D_S\n",
    "\n",
    "def calc_wmt(ds,grd,r,dr):\n",
    "    import numpy as np\n",
    "    import xarray.ufuncs as xu\n",
    "    import gsw\n",
    "    \n",
    "    # Calculate sea-surface density\n",
    "    r0 = gsw.rho_xarray(ds.vosaline.isel(deptht=0),ds.votemper.isel(deptht=0),0)\n",
    "    # Calculate buoyancy flux\n",
    "    D_in = calc_buoyancyflux(ds)\n",
    "    \n",
    "    # Multiply by area of grid cell\n",
    "    D_in_area = D_in*grd.e1t*grd.e2t\n",
    "    \n",
    "    # Calculate summed buoyancy flux for surface densities greater than r\n",
    "    # Generate new DataArray for values above and below the target density\n",
    "    Dbelow = D_in_area.where(r0>r-dr).sum(['x','y','t'])\n",
    "    Dtarget = D_in_area.where(r0>r).sum(['x','y','t'])\n",
    "    Dabove = D_in_area.where(r0>r+dr).sum(['x','y','t'])\n",
    "    # Dimension 't' is bug due to naming of dimensions in grid file\n",
    "    # Perform differentiation on these DataArrays\n",
    "    \n",
    "    # TRANSFORMATION\n",
    "    # First order central difference of D wrt rho\n",
    "    return -(1e-6)*(Dabove-Dbelow)/(2*dr)\n",
    "\n",
    "def calc_wmf(ds,grd,r,dr):\n",
    "    import numpy as np\n",
    "    import xarray.ufuncs as xu\n",
    "    import gsw\n",
    "    \n",
    "    # Calculate sea-surface density\n",
    "    r0 = gsw.rho_xarray(ds.vosaline.isel(deptht=0),ds.votemper.isel(deptht=0),0)\n",
    "    # Calculate buoyancy flux\n",
    "    D_in = calc_buoyancyflux(ds)\n",
    "    \n",
    "    # Multiply by area of grid cell\n",
    "    D_in_area = D_in*grd.e1t*grd.e2t\n",
    "    \n",
    "    # Calculate summed buoyancy flux for surface density greater than r\n",
    "    # Generate new DataArray for values above and below the target density\n",
    "    Dbelow = D_in_area.where(r0>r-dr).sum(['x','y','t'])\n",
    "    Dtarget = D_in_area.where(r0>r).sum(['x','y','t'])\n",
    "    Dabove = D_in_area.where(r0>r+dr).sum(['x','y','t'])\n",
    "    # Dimension 't' is bug due to naming of dimensions in grid file\n",
    "    # Perform differentiation on these DataArrays\n",
    "    \n",
    "    # FORMATION\n",
    "    # Second order central differences of D wrt rho\n",
    "    return (1e-6)*(Dabove-2*Dtarget+Dbelow)/(dr**2);"
   ]
  }
 ],
 "metadata": {
  "anaconda-cloud": {},
  "kernelspec": {
   "display_name": "Python [default]",
   "language": "python",
   "name": "python2"
  },
  "language_info": {
   "codemirror_mode": {
    "name": "ipython",
    "version": 2
   },
   "file_extension": ".py",
   "mimetype": "text/x-python",
   "name": "python",
   "nbconvert_exporter": "python",
   "pygments_lexer": "ipython2",
   "version": "2.7.12"
  }
 },
 "nbformat": 4,
 "nbformat_minor": 1
}
