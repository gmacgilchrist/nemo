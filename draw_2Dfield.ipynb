{
 "cells": [
  {
   "cell_type": "code",
   "execution_count": 1,
   "metadata": {
    "collapsed": true
   },
   "outputs": [],
   "source": [
    "# DRAW 2D NEMO FIELD ON MAP PROJECTION\n",
    "# GM 7/10/16: Currently writing script to visualise mean dynamic topography in Arctic, but it will be generalised to plot any 2D field in any region"
   ]
  },
  {
   "cell_type": "code",
   "execution_count": 2,
   "metadata": {
    "collapsed": false
   },
   "outputs": [],
   "source": [
    "import numpy as np\n",
    "import matplotlib\n",
    "%matplotlib inline\n",
    "import matplotlib.pyplot as plt\n",
    "import matplotlib.tri as tri\n",
    "from netCDF4 import Dataset\n",
    "from mpl_toolkits.basemap import Basemap"
   ]
  },
  {
   "cell_type": "code",
   "execution_count": 3,
   "metadata": {
    "collapsed": true
   },
   "outputs": [],
   "source": [
    "# SPECIFY VARIABLE THAT YOU WISH TO PLOT\n",
    "varname = 'sossheig'"
   ]
  },
  {
   "cell_type": "code",
   "execution_count": 6,
   "metadata": {
    "collapsed": true
   },
   "outputs": [],
   "source": [
    "# DATA LOCATION\n",
    "# Point to location where NEMO netcdf file is held\n",
    "rootdir = '/home/ocean2/graemem/arctic_carbon/'\n",
    "filename = 'ORCA12.L46-MJM88_y2008_gridT.nc'"
   ]
  },
  {
   "cell_type": "code",
   "execution_count": 7,
   "metadata": {
    "collapsed": false
   },
   "outputs": [
    {
     "name": "stdout",
     "output_type": "stream",
     "text": [
      "(3059, 4322)\n"
     ]
    }
   ],
   "source": [
    "# LOAD DATA\n",
    "# Including desired variable and latitude and longitude\n",
    "data=Dataset(rootdir+filename,'r')\n",
    "var = data.variables[varname][0,:,:]\n",
    "nav_lon = data.variables['nav_lon'][:,:]\n",
    "nav_lat = data.variables['nav_lat'][:,:]\n",
    "print var.shape"
   ]
  },
  {
   "cell_type": "code",
   "execution_count": null,
   "metadata": {
    "collapsed": false
   },
   "outputs": [],
   "source": [
    "# PLOT THE VARIABLE\n",
    "vmin = -0.5\n",
    "vmax = 0.5\n",
    "levels = np.arange(vmin,vmax+0.5,0.5)\n",
    "\n",
    "fig = plt.figure(figsize=(8,6))\n",
    "ax = fig.add_subplot(111)\n",
    "map1 = Basemap(projection='npstere',lon_0 = 0,boundinglat = 60,round=True,resolution='l')\n",
    "map1.drawcoastlines()\n",
    "map1.drawparallels(np.arange(60,90,10))\n",
    "map1.drawmeridians(np.arange(-180,150,30),labels=[1,1,0,0],fontsize=10)\n",
    "x,y = map1(nav_lon,nav_lat)\n",
    "\n",
    "pc = map1.pcolor(x,y,var,vmin=vmin,vmax=vmax,cmap=plt.cm.RdBu_r)\n",
    "cb = plt.colorbar(pc,ax=ax)\n",
    "\n",
    "# SAVE FIGURE\n",
    "plt.savefig('/home/ocean2/graemem/arctic_carbon/figures/pcolor_MDT_arctic.pdf',transparent=True)"
   ]
  },
  {
   "cell_type": "code",
   "execution_count": null,
   "metadata": {
    "collapsed": true
   },
   "outputs": [],
   "source": []
  }
 ],
 "metadata": {
  "anaconda-cloud": {},
  "kernelspec": {
   "display_name": "Python [default]",
   "language": "python",
   "name": "python2"
  },
  "language_info": {
   "codemirror_mode": {
    "name": "ipython",
    "version": 2
   },
   "file_extension": ".py",
   "mimetype": "text/x-python",
   "name": "python",
   "nbconvert_exporter": "python",
   "pygments_lexer": "ipython2",
   "version": "2.7.12"
  }
 },
 "nbformat": 4,
 "nbformat_minor": 0
}
